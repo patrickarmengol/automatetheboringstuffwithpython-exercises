{
 "cells": [
  {
   "cell_type": "code",
   "execution_count": 1,
   "metadata": {},
   "outputs": [
    {
     "ename": "Exception",
     "evalue": "something went terribly wrong",
     "output_type": "error",
     "traceback": [
      "\u001b[0;31m---------------------------------------------------------------------------\u001b[0m",
      "\u001b[0;31mException\u001b[0m                                 Traceback (most recent call last)",
      "Input \u001b[0;32mIn [1]\u001b[0m, in \u001b[0;36m<module>\u001b[0;34m\u001b[0m\n\u001b[0;32m----> 1\u001b[0m \u001b[38;5;28;01mraise\u001b[39;00m \u001b[38;5;167;01mException\u001b[39;00m(\u001b[38;5;124m'\u001b[39m\u001b[38;5;124msomething went terribly wrong\u001b[39m\u001b[38;5;124m'\u001b[39m)\n",
      "\u001b[0;31mException\u001b[0m: something went terribly wrong"
     ]
    }
   ],
   "source": [
    "raise Exception('something went terribly wrong')"
   ]
  },
  {
   "cell_type": "code",
   "execution_count": 2,
   "metadata": {},
   "outputs": [
    {
     "name": "stdout",
     "output_type": "stream",
     "text": [
      "****\n",
      "*  *\n",
      "*  *\n",
      "****\n",
      "OOOOOOOOOOOOOOOOOOOO\n",
      "O                  O\n",
      "O                  O\n",
      "O                  O\n",
      "OOOOOOOOOOOOOOOOOOOO\n",
      "an exception happened: width must be greater than 2\n",
      "an exception happened: symbol must be a single character string\n"
     ]
    }
   ],
   "source": [
    "def box_print(symbol, width, height):\n",
    "    if len(symbol) != 1:\n",
    "        raise Exception('symbol must be a single character string')\n",
    "    if width <= 2:\n",
    "        raise Exception('width must be greater than 2')\n",
    "    if height <= 2:\n",
    "        raise Exception('height must be greater than 2')\n",
    "    print(symbol * width)\n",
    "    for i in range(height - 2):\n",
    "        print(symbol + (' ' * (width - 2)) + symbol)\n",
    "    print(symbol * width)\n",
    "\n",
    "for sym, w, h in (('*', 4, 4), ('O', 20, 5), ('x',1, 3), ('ZZ', 3, 3)):\n",
    "    try:\n",
    "        box_print(sym, w, h)\n",
    "    except Exception as err:\n",
    "        print('an exception happened: ' + str(err))"
   ]
  },
  {
   "cell_type": "code",
   "execution_count": 3,
   "metadata": {},
   "outputs": [
    {
     "ename": "Exception",
     "evalue": "this is the error message",
     "output_type": "error",
     "traceback": [
      "\u001b[0;31m---------------------------------------------------------------------------\u001b[0m",
      "\u001b[0;31mException\u001b[0m                                 Traceback (most recent call last)",
      "Input \u001b[0;32mIn [3]\u001b[0m, in \u001b[0;36m<module>\u001b[0;34m\u001b[0m\n\u001b[1;32m      4\u001b[0m \u001b[38;5;28;01mdef\u001b[39;00m \u001b[38;5;21mbacon\u001b[39m():\n\u001b[1;32m      5\u001b[0m     \u001b[38;5;28;01mraise\u001b[39;00m \u001b[38;5;167;01mException\u001b[39;00m(\u001b[38;5;124m'\u001b[39m\u001b[38;5;124mthis is the error message\u001b[39m\u001b[38;5;124m'\u001b[39m)\n\u001b[0;32m----> 7\u001b[0m \u001b[43mspam\u001b[49m\u001b[43m(\u001b[49m\u001b[43m)\u001b[49m\n",
      "Input \u001b[0;32mIn [3]\u001b[0m, in \u001b[0;36mspam\u001b[0;34m()\u001b[0m\n\u001b[1;32m      1\u001b[0m \u001b[38;5;28;01mdef\u001b[39;00m \u001b[38;5;21mspam\u001b[39m():\n\u001b[0;32m----> 2\u001b[0m     \u001b[43mbacon\u001b[49m\u001b[43m(\u001b[49m\u001b[43m)\u001b[49m\n",
      "Input \u001b[0;32mIn [3]\u001b[0m, in \u001b[0;36mbacon\u001b[0;34m()\u001b[0m\n\u001b[1;32m      4\u001b[0m \u001b[38;5;28;01mdef\u001b[39;00m \u001b[38;5;21mbacon\u001b[39m():\n\u001b[0;32m----> 5\u001b[0m     \u001b[38;5;28;01mraise\u001b[39;00m \u001b[38;5;167;01mException\u001b[39;00m(\u001b[38;5;124m'\u001b[39m\u001b[38;5;124mthis is the error message\u001b[39m\u001b[38;5;124m'\u001b[39m)\n",
      "\u001b[0;31mException\u001b[0m: this is the error message"
     ]
    }
   ],
   "source": [
    "def spam():\n",
    "    bacon()\n",
    "\n",
    "def bacon():\n",
    "    raise Exception('this is the error message')\n",
    "\n",
    "spam()"
   ]
  },
  {
   "cell_type": "code",
   "execution_count": 4,
   "metadata": {},
   "outputs": [],
   "source": [
    "import traceback"
   ]
  },
  {
   "cell_type": "code",
   "execution_count": 5,
   "metadata": {},
   "outputs": [
    {
     "name": "stdout",
     "output_type": "stream",
     "text": [
      "the traceback info was written to error_info.txt\n"
     ]
    }
   ],
   "source": [
    "try:\n",
    "    raise Exception('this is the error message')\n",
    "except:\n",
    "    with open('error_info.txt', 'w') as error_file:\n",
    "        error_file.write(traceback.format_exc())\n",
    "    print('the traceback info was written to error_info.txt')"
   ]
  },
  {
   "cell_type": "code",
   "execution_count": 6,
   "metadata": {},
   "outputs": [],
   "source": [
    "ages = [26, 57, 92, 54]\n",
    "ages.sort()\n",
    "assert ages[0] <= ages[-1]"
   ]
  },
  {
   "cell_type": "code",
   "execution_count": 7,
   "metadata": {},
   "outputs": [
    {
     "ename": "AssertionError",
     "evalue": "",
     "output_type": "error",
     "traceback": [
      "\u001b[0;31m---------------------------------------------------------------------------\u001b[0m",
      "\u001b[0;31mAssertionError\u001b[0m                            Traceback (most recent call last)",
      "Input \u001b[0;32mIn [7]\u001b[0m, in \u001b[0;36m<module>\u001b[0;34m\u001b[0m\n\u001b[1;32m      1\u001b[0m ages\u001b[38;5;241m.\u001b[39mreverse()\n\u001b[0;32m----> 2\u001b[0m \u001b[38;5;28;01massert\u001b[39;00m ages[\u001b[38;5;241m0\u001b[39m] \u001b[38;5;241m<\u001b[39m\u001b[38;5;241m=\u001b[39m ages[\u001b[38;5;241m-\u001b[39m\u001b[38;5;241m1\u001b[39m]\n",
      "\u001b[0;31mAssertionError\u001b[0m: "
     ]
    }
   ],
   "source": [
    "ages.reverse()\n",
    "assert ages[0] <= ages[-1]"
   ]
  },
  {
   "cell_type": "code",
   "execution_count": 8,
   "metadata": {},
   "outputs": [],
   "source": [
    "import logging\n",
    "logging.basicConfig(level=logging.DEBUG, format=' %(asctime)s - %(levelname)s - %(message)s')\n",
    "\n",
    "# API uses camelCase (goes against PEP8 recommendation and most of the stdlib)\n",
    "# \n",
    "# PEP8 says - consistency with this style guide is important. Consistency within a project is more important. Consistency within one module or function is most important.\n",
    "# \n",
    "#     So True, but can't not be changed, because of backward compatibility. logging2 maybe. -- techtonik\n",
    "# \n",
    "#         It's a low priority right now, unless there's an initiative to ensure the rest of the stdlib is made to conform to PEP8. -- VinaySajip"
   ]
  },
  {
   "cell_type": "code",
   "execution_count": 9,
   "metadata": {},
   "outputs": [
    {
     "name": "stderr",
     "output_type": "stream",
     "text": [
      " 2022-01-23 12:28:26,042 - DEBUG - start of program\n",
      " 2022-01-23 12:28:26,042 - DEBUG - start of factorial(5)\n",
      " 2022-01-23 12:28:26,043 - DEBUG - i is 0, total is 0\n",
      " 2022-01-23 12:28:26,043 - DEBUG - i is 1, total is 0\n",
      " 2022-01-23 12:28:26,045 - DEBUG - i is 2, total is 0\n",
      " 2022-01-23 12:28:26,045 - DEBUG - i is 3, total is 0\n",
      " 2022-01-23 12:28:26,046 - DEBUG - i is 4, total is 0\n",
      " 2022-01-23 12:28:26,046 - DEBUG - i is 5, total is 0\n",
      " 2022-01-23 12:28:26,047 - DEBUG - end of factorial(5)\n",
      " 2022-01-23 12:28:26,047 - DEBUG - end of program\n"
     ]
    },
    {
     "name": "stdout",
     "output_type": "stream",
     "text": [
      "0\n"
     ]
    }
   ],
   "source": [
    "%run factoriallog.py"
   ]
  },
  {
   "cell_type": "code",
   "execution_count": 10,
   "metadata": {},
   "outputs": [
    {
     "name": "stderr",
     "output_type": "stream",
     "text": [
      " 2022-01-23 12:29:04,738 - DEBUG - start of program\n",
      " 2022-01-23 12:29:04,739 - DEBUG - start of factorial(5)\n",
      " 2022-01-23 12:29:04,739 - DEBUG - i is 1, total is 1\n",
      " 2022-01-23 12:29:04,739 - DEBUG - i is 2, total is 2\n",
      " 2022-01-23 12:29:04,739 - DEBUG - i is 3, total is 6\n",
      " 2022-01-23 12:29:04,740 - DEBUG - i is 4, total is 24\n",
      " 2022-01-23 12:29:04,740 - DEBUG - i is 5, total is 120\n",
      " 2022-01-23 12:29:04,740 - DEBUG - end of factorial(5)\n",
      " 2022-01-23 12:29:04,741 - DEBUG - end of program\n"
     ]
    },
    {
     "name": "stdout",
     "output_type": "stream",
     "text": [
      "120\n"
     ]
    }
   ],
   "source": [
    "%run factoriallog.py # fixed"
   ]
  },
  {
   "cell_type": "markdown",
   "metadata": {},
   "source": [
    "## practice questions\n",
    "\n",
    "1. `assert spam >= 10`\n",
    "2. `assert eggs.lower() != bacon.lower()`\n",
    "3. `assert 1 == 2`\n",
    "4. `import logging` and `logging.basicConfig(level=logging.DEBUG,...)`\n",
    "5. `import logging` and `logging.basicConfig(filename='program_log.txt',...)`\n",
    "6. debug, info, warning, error, critical\n",
    "7. logging.disable()\n",
    "8. because cleanup\n",
    "9. ...\n",
    "10. next breakpoint or end\n",
    "11. point where code execution halts in debugger\n",
    "12. i don't know lol, who uses Mu?"
   ]
  }
 ],
 "metadata": {
  "interpreter": {
   "hash": "fb3cb8dea069421dd585bbbecc3c4a5cfc1b54608ecec9721ad330a804798f5b"
  },
  "kernelspec": {
   "display_name": "Python 3.10.1 64-bit ('venv': venv)",
   "language": "python",
   "name": "python3"
  },
  "language_info": {
   "codemirror_mode": {
    "name": "ipython",
    "version": 3
   },
   "file_extension": ".py",
   "mimetype": "text/x-python",
   "name": "python",
   "nbconvert_exporter": "python",
   "pygments_lexer": "ipython3",
   "version": "3.10.1"
  },
  "orig_nbformat": 4
 },
 "nbformat": 4,
 "nbformat_minor": 2
}
