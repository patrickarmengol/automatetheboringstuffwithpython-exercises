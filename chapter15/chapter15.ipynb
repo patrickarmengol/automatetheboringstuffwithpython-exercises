{
 "cells": [
  {
   "cell_type": "code",
   "execution_count": 1,
   "metadata": {},
   "outputs": [],
   "source": [
    "import PyPDF2 # fucking camelCase"
   ]
  },
  {
   "cell_type": "code",
   "execution_count": 2,
   "metadata": {},
   "outputs": [
    {
     "data": {
      "text/plain": [
       "19"
      ]
     },
     "execution_count": 2,
     "metadata": {},
     "output_type": "execute_result"
    }
   ],
   "source": [
    "pdf_file_obj = open('meetingminutes.pdf', 'rb')\n",
    "pdf_reader = PyPDF2.PdfFileReader(pdf_file_obj)\n",
    "pdf_reader.numPages"
   ]
  },
  {
   "cell_type": "code",
   "execution_count": 3,
   "metadata": {},
   "outputs": [
    {
     "data": {
      "text/plain": [
       "'OOFFFFIICCIIAALL  BBOOAARRDD  MMIINNUUTTEESS   Meeting of \\nMarch 7\\n, 2014\\n        \\n     The Board of Elementary and Secondary Education shall provide leadership and \\ncreate policies for education that expand opportunities for children, empower \\nfamilies and communities, and advance Louisiana in an increasingly \\ncompetitive glob\\nal market.\\n BOARD \\n of ELEMENTARY\\n and \\n SECONDARY\\n EDUCATION\\n  '"
      ]
     },
     "execution_count": 3,
     "metadata": {},
     "output_type": "execute_result"
    }
   ],
   "source": [
    "page_obj = pdf_reader.getPage(0)\n",
    "page_obj.extractText()"
   ]
  },
  {
   "cell_type": "code",
   "execution_count": 4,
   "metadata": {},
   "outputs": [],
   "source": [
    "pdf_file_obj.close()"
   ]
  },
  {
   "cell_type": "code",
   "execution_count": 6,
   "metadata": {},
   "outputs": [
    {
     "data": {
      "text/plain": [
       "True"
      ]
     },
     "execution_count": 6,
     "metadata": {},
     "output_type": "execute_result"
    }
   ],
   "source": [
    "pdf_reader = PyPDF2.PdfFileReader(open('encrypted.pdf', 'rb'))\n",
    "pdf_reader.isEncrypted"
   ]
  },
  {
   "cell_type": "code",
   "execution_count": 7,
   "metadata": {},
   "outputs": [
    {
     "ename": "PdfReadError",
     "evalue": "file has not been decrypted",
     "output_type": "error",
     "traceback": [
      "\u001b[0;31m---------------------------------------------------------------------------\u001b[0m",
      "\u001b[0;31mPdfReadError\u001b[0m                              Traceback (most recent call last)",
      "Input \u001b[0;32mIn [7]\u001b[0m, in \u001b[0;36m<module>\u001b[0;34m\u001b[0m\n\u001b[0;32m----> 1\u001b[0m \u001b[43mpdf_reader\u001b[49m\u001b[38;5;241;43m.\u001b[39;49m\u001b[43mgetPage\u001b[49m\u001b[43m(\u001b[49m\u001b[38;5;241;43m0\u001b[39;49m\u001b[43m)\u001b[49m\n",
      "File \u001b[0;32m~/dev/automatetheboringstuffwithpython-exercises/venv/lib/python3.10/site-packages/PyPDF2/pdf.py:1176\u001b[0m, in \u001b[0;36mPdfFileReader.getPage\u001b[0;34m(self, pageNumber)\u001b[0m\n\u001b[1;32m   1173\u001b[0m \u001b[38;5;66;03m## ensure that we're not trying to access an encrypted PDF\u001b[39;00m\n\u001b[1;32m   1174\u001b[0m \u001b[38;5;66;03m#assert not self.trailer.has_key(\"/Encrypt\")\u001b[39;00m\n\u001b[1;32m   1175\u001b[0m \u001b[38;5;28;01mif\u001b[39;00m \u001b[38;5;28mself\u001b[39m\u001b[38;5;241m.\u001b[39mflattenedPages \u001b[38;5;241m==\u001b[39m \u001b[38;5;28;01mNone\u001b[39;00m:\n\u001b[0;32m-> 1176\u001b[0m     \u001b[38;5;28;43mself\u001b[39;49m\u001b[38;5;241;43m.\u001b[39;49m\u001b[43m_flatten\u001b[49m\u001b[43m(\u001b[49m\u001b[43m)\u001b[49m\n\u001b[1;32m   1177\u001b[0m \u001b[38;5;28;01mreturn\u001b[39;00m \u001b[38;5;28mself\u001b[39m\u001b[38;5;241m.\u001b[39mflattenedPages[pageNumber]\n",
      "File \u001b[0;32m~/dev/automatetheboringstuffwithpython-exercises/venv/lib/python3.10/site-packages/PyPDF2/pdf.py:1505\u001b[0m, in \u001b[0;36mPdfFileReader._flatten\u001b[0;34m(self, pages, inherit, indirectRef)\u001b[0m\n\u001b[1;32m   1503\u001b[0m \u001b[38;5;28;01mif\u001b[39;00m pages \u001b[38;5;241m==\u001b[39m \u001b[38;5;28;01mNone\u001b[39;00m:\n\u001b[1;32m   1504\u001b[0m     \u001b[38;5;28mself\u001b[39m\u001b[38;5;241m.\u001b[39mflattenedPages \u001b[38;5;241m=\u001b[39m []\n\u001b[0;32m-> 1505\u001b[0m     catalog \u001b[38;5;241m=\u001b[39m \u001b[38;5;28;43mself\u001b[39;49m\u001b[38;5;241;43m.\u001b[39;49m\u001b[43mtrailer\u001b[49m\u001b[43m[\u001b[49m\u001b[38;5;124;43m\"\u001b[39;49m\u001b[38;5;124;43m/Root\u001b[39;49m\u001b[38;5;124;43m\"\u001b[39;49m\u001b[43m]\u001b[49m\u001b[38;5;241m.\u001b[39mgetObject()\n\u001b[1;32m   1506\u001b[0m     pages \u001b[38;5;241m=\u001b[39m catalog[\u001b[38;5;124m\"\u001b[39m\u001b[38;5;124m/Pages\u001b[39m\u001b[38;5;124m\"\u001b[39m]\u001b[38;5;241m.\u001b[39mgetObject()\n\u001b[1;32m   1508\u001b[0m t \u001b[38;5;241m=\u001b[39m \u001b[38;5;124m\"\u001b[39m\u001b[38;5;124m/Pages\u001b[39m\u001b[38;5;124m\"\u001b[39m\n",
      "File \u001b[0;32m~/dev/automatetheboringstuffwithpython-exercises/venv/lib/python3.10/site-packages/PyPDF2/generic.py:516\u001b[0m, in \u001b[0;36mDictionaryObject.__getitem__\u001b[0;34m(self, key)\u001b[0m\n\u001b[1;32m    515\u001b[0m \u001b[38;5;28;01mdef\u001b[39;00m \u001b[38;5;21m__getitem__\u001b[39m(\u001b[38;5;28mself\u001b[39m, key):\n\u001b[0;32m--> 516\u001b[0m     \u001b[38;5;28;01mreturn\u001b[39;00m \u001b[38;5;28;43mdict\u001b[39;49m\u001b[38;5;241;43m.\u001b[39;49m\u001b[38;5;21;43m__getitem__\u001b[39;49m\u001b[43m(\u001b[49m\u001b[38;5;28;43mself\u001b[39;49m\u001b[43m,\u001b[49m\u001b[43m \u001b[49m\u001b[43mkey\u001b[49m\u001b[43m)\u001b[49m\u001b[38;5;241;43m.\u001b[39;49m\u001b[43mgetObject\u001b[49m\u001b[43m(\u001b[49m\u001b[43m)\u001b[49m\n",
      "File \u001b[0;32m~/dev/automatetheboringstuffwithpython-exercises/venv/lib/python3.10/site-packages/PyPDF2/generic.py:178\u001b[0m, in \u001b[0;36mIndirectObject.getObject\u001b[0;34m(self)\u001b[0m\n\u001b[1;32m    177\u001b[0m \u001b[38;5;28;01mdef\u001b[39;00m \u001b[38;5;21mgetObject\u001b[39m(\u001b[38;5;28mself\u001b[39m):\n\u001b[0;32m--> 178\u001b[0m     \u001b[38;5;28;01mreturn\u001b[39;00m \u001b[38;5;28;43mself\u001b[39;49m\u001b[38;5;241;43m.\u001b[39;49m\u001b[43mpdf\u001b[49m\u001b[38;5;241;43m.\u001b[39;49m\u001b[43mgetObject\u001b[49m\u001b[43m(\u001b[49m\u001b[38;5;28;43mself\u001b[39;49m\u001b[43m)\u001b[49m\u001b[38;5;241m.\u001b[39mgetObject()\n",
      "File \u001b[0;32m~/dev/automatetheboringstuffwithpython-exercises/venv/lib/python3.10/site-packages/PyPDF2/pdf.py:1617\u001b[0m, in \u001b[0;36mPdfFileReader.getObject\u001b[0;34m(self, indirectReference)\u001b[0m\n\u001b[1;32m   1614\u001b[0m \u001b[38;5;28;01mif\u001b[39;00m \u001b[38;5;129;01mnot\u001b[39;00m \u001b[38;5;28mself\u001b[39m\u001b[38;5;241m.\u001b[39m_override_encryption \u001b[38;5;129;01mand\u001b[39;00m \u001b[38;5;28mself\u001b[39m\u001b[38;5;241m.\u001b[39misEncrypted:\n\u001b[1;32m   1615\u001b[0m     \u001b[38;5;66;03m# if we don't have the encryption key:\u001b[39;00m\n\u001b[1;32m   1616\u001b[0m     \u001b[38;5;28;01mif\u001b[39;00m \u001b[38;5;129;01mnot\u001b[39;00m \u001b[38;5;28mhasattr\u001b[39m(\u001b[38;5;28mself\u001b[39m, \u001b[38;5;124m'\u001b[39m\u001b[38;5;124m_decryption_key\u001b[39m\u001b[38;5;124m'\u001b[39m):\n\u001b[0;32m-> 1617\u001b[0m         \u001b[38;5;28;01mraise\u001b[39;00m utils\u001b[38;5;241m.\u001b[39mPdfReadError(\u001b[38;5;124m\"\u001b[39m\u001b[38;5;124mfile has not been decrypted\u001b[39m\u001b[38;5;124m\"\u001b[39m)\n\u001b[1;32m   1618\u001b[0m     \u001b[38;5;66;03m# otherwise, decrypt here...\u001b[39;00m\n\u001b[1;32m   1619\u001b[0m     \u001b[38;5;28;01mimport\u001b[39;00m \u001b[38;5;21;01mstruct\u001b[39;00m\n",
      "\u001b[0;31mPdfReadError\u001b[0m: file has not been decrypted"
     ]
    }
   ],
   "source": [
    "pdf_reader.getPage(0)"
   ]
  },
  {
   "cell_type": "code",
   "execution_count": 8,
   "metadata": {},
   "outputs": [
    {
     "data": {
      "text/plain": [
       "1"
      ]
     },
     "execution_count": 8,
     "metadata": {},
     "output_type": "execute_result"
    }
   ],
   "source": [
    "pdf_reader.decrypt('rosebud')"
   ]
  },
  {
   "cell_type": "code",
   "execution_count": 9,
   "metadata": {},
   "outputs": [
    {
     "ename": "IndexError",
     "evalue": "list index out of range",
     "output_type": "error",
     "traceback": [
      "\u001b[0;31m---------------------------------------------------------------------------\u001b[0m",
      "\u001b[0;31mIndexError\u001b[0m                                Traceback (most recent call last)",
      "Input \u001b[0;32mIn [9]\u001b[0m, in \u001b[0;36m<module>\u001b[0;34m\u001b[0m\n\u001b[0;32m----> 1\u001b[0m page_obj \u001b[38;5;241m=\u001b[39m \u001b[43mpdf_reader\u001b[49m\u001b[38;5;241;43m.\u001b[39;49m\u001b[43mgetPage\u001b[49m\u001b[43m(\u001b[49m\u001b[38;5;241;43m0\u001b[39;49m\u001b[43m)\u001b[49m\n",
      "File \u001b[0;32m~/dev/automatetheboringstuffwithpython-exercises/venv/lib/python3.10/site-packages/PyPDF2/pdf.py:1177\u001b[0m, in \u001b[0;36mPdfFileReader.getPage\u001b[0;34m(self, pageNumber)\u001b[0m\n\u001b[1;32m   1175\u001b[0m \u001b[38;5;28;01mif\u001b[39;00m \u001b[38;5;28mself\u001b[39m\u001b[38;5;241m.\u001b[39mflattenedPages \u001b[38;5;241m==\u001b[39m \u001b[38;5;28;01mNone\u001b[39;00m:\n\u001b[1;32m   1176\u001b[0m     \u001b[38;5;28mself\u001b[39m\u001b[38;5;241m.\u001b[39m_flatten()\n\u001b[0;32m-> 1177\u001b[0m \u001b[38;5;28;01mreturn\u001b[39;00m \u001b[38;5;28;43mself\u001b[39;49m\u001b[38;5;241;43m.\u001b[39;49m\u001b[43mflattenedPages\u001b[49m\u001b[43m[\u001b[49m\u001b[43mpageNumber\u001b[49m\u001b[43m]\u001b[49m\n",
      "\u001b[0;31mIndexError\u001b[0m: list index out of range"
     ]
    }
   ],
   "source": [
    "page_obj = pdf_reader.getPage(0) # bug caused by calling getPage() on encrypted pdf before decrypt(); need to reopen"
   ]
  },
  {
   "cell_type": "code",
   "execution_count": 11,
   "metadata": {},
   "outputs": [],
   "source": [
    "pdf_reader = PyPDF2.PdfFileReader(open('encrypted.pdf', 'rb'))\n",
    "pdf_reader.decrypt('rosebud')\n",
    "page_obj = pdf_reader.getPage(0)"
   ]
  },
  {
   "cell_type": "code",
   "execution_count": 12,
   "metadata": {},
   "outputs": [],
   "source": [
    "pdf1_file = open('meetingminutes.pdf', 'rb')\n",
    "pdf2_file = open('meetingminutes.pdf', 'rb')\n",
    "pdf1_reader = PyPDF2.PdfFileReader(pdf1_file)\n",
    "pdf2_reader = PyPDF2.PdfFileReader(pdf2_file)\n",
    "pdf_writer = PyPDF2.PdfFileWriter()\n",
    "\n",
    "for page_num in range(pdf1_reader.numPages):\n",
    "    page_obj = pdf1_reader.getPage(page_num)\n",
    "    pdf_writer.addPage(page_obj) # can only append to end\n",
    "\n",
    "for page_num in range(pdf2_reader.numPages):\n",
    "    page_obj = pdf2_reader.getPage(page_num)\n",
    "    pdf_writer.addPage(page_obj)\n",
    "\n",
    "pdf_output_file = open('combinedminutes.pdf', 'wb')\n",
    "pdf_writer.write(pdf_output_file)\n",
    "pdf_output_file.close()\n",
    "pdf1_file.close()\n",
    "pdf2_file.close()"
   ]
  },
  {
   "cell_type": "code",
   "execution_count": 13,
   "metadata": {},
   "outputs": [],
   "source": [
    "minutes_file = open('meetingminutes.pdf', 'rb')\n",
    "pdf_reader = PyPDF2.PdfFileReader(minutes_file)\n",
    "page = pdf_reader.getPage(0)\n",
    "page.rotateClockwise(90)\n",
    "pdf_writer = PyPDF2.PdfFileWriter()\n",
    "pdf_writer.addPage(page)\n",
    "result_pdf_file = open('rotadedpage.pdf', 'wb')\n",
    "pdf_writer.write(result_pdf_file)\n",
    "result_pdf_file.close()\n",
    "minutes_file.close()"
   ]
  },
  {
   "cell_type": "code",
   "execution_count": 14,
   "metadata": {},
   "outputs": [],
   "source": [
    "minutes_file = open('meetingminutes.pdf', 'rb')\n",
    "pdf_reader = PyPDF2.PdfFileReader(minutes_file)\n",
    "minutes_first_page = pdf_reader.getPage(0)\n",
    "pdf_watermark_reader = PyPDF2.PdfFileReader(open('watermark.pdf', 'rb'))\n",
    "minutes_first_page.mergePage(pdf_watermark_reader.getPage(0))\n",
    "pdf_writer = PyPDF2.PdfFileWriter()\n",
    "pdf_writer.addPage(minutes_first_page)\n",
    "\n",
    "for page_num in range(1,pdf_reader.numPages):\n",
    "    page_obj = pdf_reader.getPage(page_num)\n",
    "    pdf_writer.addPage(page_obj)\n",
    "\n",
    "result_pdf_file = open('watermarkedcover.pdf', 'wb')\n",
    "pdf_writer.write(result_pdf_file)\n",
    "minutes_file.close()\n",
    "result_pdf_file.close()"
   ]
  },
  {
   "cell_type": "code",
   "execution_count": null,
   "metadata": {},
   "outputs": [],
   "source": [
    "# pdf_writer.encrypt('password') before writing to file"
   ]
  },
  {
   "cell_type": "markdown",
   "metadata": {},
   "source": [
    "i'm skipping word documents"
   ]
  },
  {
   "cell_type": "markdown",
   "metadata": {},
   "source": [
    "## practice questions\n",
    "\n",
    "1. file obj\n",
    "2. 'rb' and 'wb'\n",
    "3. `reader.getPage(4)`\n",
    "4. `numPages`\n",
    "5. `decrypt('swordfish')`\n",
    "6. `rotateClockwise()` and `rotateCounterClockwise()`"
   ]
  }
 ],
 "metadata": {
  "interpreter": {
   "hash": "fdf2af270e1c4421df51758865ba71775b67e21bd7cdd0a2bda190f7a1013cec"
  },
  "kernelspec": {
   "display_name": "Python 3.10.2 64-bit ('venv': venv)",
   "language": "python",
   "name": "python3"
  },
  "language_info": {
   "codemirror_mode": {
    "name": "ipython",
    "version": 3
   },
   "file_extension": ".py",
   "mimetype": "text/x-python",
   "name": "python",
   "nbconvert_exporter": "python",
   "pygments_lexer": "ipython3",
   "version": "3.10.2"
  },
  "orig_nbformat": 4
 },
 "nbformat": 4,
 "nbformat_minor": 2
}
