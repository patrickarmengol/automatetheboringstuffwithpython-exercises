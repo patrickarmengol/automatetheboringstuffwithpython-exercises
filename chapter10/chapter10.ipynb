{
 "cells": [
  {
   "cell_type": "code",
   "execution_count": 1,
   "metadata": {},
   "outputs": [],
   "source": [
    "# the cwd of this notebook is the chapter10 dir; the cwd when running scripts contained in this dir in vscodium is the parent autoboring\n",
    "# i should probably use absolute paths to avoid errors\n",
    "import shutil, os\n",
    "from pathlib import Path"
   ]
  },
  {
   "cell_type": "code",
   "execution_count": 2,
   "metadata": {},
   "outputs": [],
   "source": [
    "p = Path.home()"
   ]
  },
  {
   "cell_type": "code",
   "execution_count": 4,
   "metadata": {},
   "outputs": [
    {
     "data": {
      "text/plain": [
       "PosixPath('/home/iu/some_folder')"
      ]
     },
     "execution_count": 4,
     "metadata": {},
     "output_type": "execute_result"
    }
   ],
   "source": [
    "shutil.copy(p / 'spam.txt', p / 'some_folder')\n",
    "# it copied the text file into another file called 'some_folder', rather than creating a dir and putting spam into it like the example\n",
    "# perhaps the result would be different if the dir already existed"
   ]
  },
  {
   "cell_type": "code",
   "execution_count": 5,
   "metadata": {},
   "outputs": [
    {
     "data": {
      "text/plain": [
       "'/home/iu/exists_folder/spam.txt'"
      ]
     },
     "execution_count": 5,
     "metadata": {},
     "output_type": "execute_result"
    }
   ],
   "source": [
    "shutil.copy(p / 'spam.txt', p / 'exists_folder')\n",
    "# well that worked, but why did it return a string this time?"
   ]
  },
  {
   "cell_type": "code",
   "execution_count": 6,
   "metadata": {},
   "outputs": [
    {
     "data": {
      "text/plain": [
       "PosixPath('/home/iu/exists_folder/asdf.txt')"
      ]
     },
     "execution_count": 6,
     "metadata": {},
     "output_type": "execute_result"
    }
   ],
   "source": [
    "shutil.copy(p / 'spam.txt', p / 'exists_folder/asdf.txt')\n",
    "# now it returns a PosixPath..."
   ]
  },
  {
   "cell_type": "code",
   "execution_count": 7,
   "metadata": {},
   "outputs": [
    {
     "data": {
      "text/plain": [
       "PosixPath('/home/iu/backup_folder')"
      ]
     },
     "execution_count": 7,
     "metadata": {},
     "output_type": "execute_result"
    }
   ],
   "source": [
    "shutil.copytree(p / 'exists_folder', p / 'backup_folder')\n",
    "# why am i naming them 'folder'?"
   ]
  },
  {
   "cell_type": "code",
   "execution_count": 9,
   "metadata": {},
   "outputs": [
    {
     "data": {
      "text/plain": [
       "PosixPath('/home/iu/exists_folder/blam.txt')"
      ]
     },
     "execution_count": 9,
     "metadata": {},
     "output_type": "execute_result"
    }
   ],
   "source": [
    "shutil.move(p / 'spam.txt', p / 'exists_folder/blam.txt')"
   ]
  },
  {
   "cell_type": "code",
   "execution_count": 10,
   "metadata": {},
   "outputs": [],
   "source": [
    "for filename in Path.home().glob('*.txt'):\n",
    "    # os.unlink(filename)\n",
    "    print(filename)"
   ]
  },
  {
   "cell_type": "code",
   "execution_count": 11,
   "metadata": {},
   "outputs": [
    {
     "name": "stdout",
     "output_type": "stream",
     "text": [
      "the current dir is /home/iu/exists_folder\n",
      "subdir of /home/iu/exists_folder: folder2\n",
      "subdir of /home/iu/exists_folder: folder1\n",
      "file inside /home/iu/exists_folder: asdf.txt\n",
      "file inside /home/iu/exists_folder: blam.txt\n",
      "file inside /home/iu/exists_folder: spam.txt\n",
      "\n",
      "the current dir is /home/iu/exists_folder/folder2\n",
      "file inside /home/iu/exists_folder/folder2: zxcv.txt\n",
      "\n",
      "the current dir is /home/iu/exists_folder/folder1\n",
      "file inside /home/iu/exists_folder/folder1: qwer.txt\n",
      "\n"
     ]
    }
   ],
   "source": [
    "for dirname, subdirs, filenames in os.walk(Path.home() / 'exists_folder'):\n",
    "    print(f'the current dir is {dirname}')\n",
    "    for subdir in subdirs:\n",
    "        print(f'subdir of {dirname}: {subdir}')\n",
    "    for filename in filenames:\n",
    "        print(f'file inside {dirname}: {filename}')\n",
    "    print()"
   ]
  },
  {
   "cell_type": "code",
   "execution_count": 12,
   "metadata": {},
   "outputs": [],
   "source": [
    "import zipfile"
   ]
  },
  {
   "cell_type": "code",
   "execution_count": 13,
   "metadata": {},
   "outputs": [],
   "source": [
    "p = Path('/home/iu/dev/autoboring/chapter10')"
   ]
  },
  {
   "cell_type": "code",
   "execution_count": 14,
   "metadata": {},
   "outputs": [],
   "source": [
    "example_zip = zipfile.ZipFile(p / 'example.zip')"
   ]
  },
  {
   "cell_type": "code",
   "execution_count": 15,
   "metadata": {},
   "outputs": [
    {
     "data": {
      "text/plain": [
       "['spam.txt', 'cats/', 'cats/catnames.txt', 'cats/zophie.jpg']"
      ]
     },
     "execution_count": 15,
     "metadata": {},
     "output_type": "execute_result"
    }
   ],
   "source": [
    "example_zip.namelist()"
   ]
  },
  {
   "cell_type": "code",
   "execution_count": 16,
   "metadata": {},
   "outputs": [],
   "source": [
    "spam_info = example_zip.getinfo('spam.txt')"
   ]
  },
  {
   "cell_type": "code",
   "execution_count": 17,
   "metadata": {},
   "outputs": [
    {
     "data": {
      "text/plain": [
       "13908"
      ]
     },
     "execution_count": 17,
     "metadata": {},
     "output_type": "execute_result"
    }
   ],
   "source": [
    "spam_info.file_size"
   ]
  },
  {
   "cell_type": "code",
   "execution_count": 18,
   "metadata": {},
   "outputs": [
    {
     "data": {
      "text/plain": [
       "3828"
      ]
     },
     "execution_count": 18,
     "metadata": {},
     "output_type": "execute_result"
    }
   ],
   "source": [
    "spam_info.compress_size"
   ]
  },
  {
   "cell_type": "code",
   "execution_count": 19,
   "metadata": {},
   "outputs": [
    {
     "data": {
      "text/plain": [
       "'compressed file is 3.63x smaller'"
      ]
     },
     "execution_count": 19,
     "metadata": {},
     "output_type": "execute_result"
    }
   ],
   "source": [
    "f'compressed file is {round(spam_info.file_size / spam_info.compress_size, 2)}x smaller'"
   ]
  },
  {
   "cell_type": "code",
   "execution_count": 20,
   "metadata": {},
   "outputs": [],
   "source": [
    "example_zip.close()"
   ]
  },
  {
   "cell_type": "code",
   "execution_count": 21,
   "metadata": {},
   "outputs": [],
   "source": [
    "# is there a context manager for zipfiles?\n",
    "example_zip = zipfile.ZipFile(p / 'example.zip')\n",
    "example_zip.extractall()\n",
    "example_zip.close()\n",
    "# extracted to p by default, can specify dir, if new will be created"
   ]
  },
  {
   "cell_type": "code",
   "execution_count": 22,
   "metadata": {},
   "outputs": [],
   "source": [
    "new_zip = zipfile.ZipFile('new.zip', 'w')\n",
    "new_zip.write(p / 'spam.txt', compress_type=zipfile.ZIP_DEFLATED)\n",
    "new_zip.close()"
   ]
  },
  {
   "cell_type": "code",
   "execution_count": 23,
   "metadata": {},
   "outputs": [
    {
     "name": "stdout",
     "output_type": "stream",
     "text": [
      "renaming \"invoice_02-24-2050.pdf\" to \"invoice_24-02-2050.pdf\"\n",
      "renaming \"performance_review_07-30-2051_final.txt\" to \"performance_review_30-07-2051_final.txt\"\n"
     ]
    }
   ],
   "source": [
    "%run useudates.py"
   ]
  },
  {
   "cell_type": "code",
   "execution_count": 24,
   "metadata": {},
   "outputs": [
    {
     "name": "stdout",
     "output_type": "stream",
     "text": [
      "creating stuff_1.zip\n",
      "adding files in /home/iu/dev/autoboring/chapter10/stuff\n",
      "done\n"
     ]
    }
   ],
   "source": [
    "%run backuptozip.py"
   ]
  },
  {
   "cell_type": "markdown",
   "metadata": {},
   "source": [
    "## practice questions\n",
    "\n",
    "1. copy works on a single file, copy tree works on a directory, its subdirectories, and all files contained within\n",
    "2. shutil.move()\n",
    "3. send2trash sends to trash, shutil permanently deletes\n",
    "4. the constructor zipfile.ZipFile(); zipfile.open() opens a file contained within the zip"
   ]
  },
  {
   "cell_type": "code",
   "execution_count": null,
   "metadata": {},
   "outputs": [],
   "source": [
    "%run selectivecopy.py"
   ]
  },
  {
   "cell_type": "code",
   "execution_count": null,
   "metadata": {},
   "outputs": [],
   "source": [
    "%run deleteunneeded.py"
   ]
  },
  {
   "cell_type": "code",
   "execution_count": null,
   "metadata": {},
   "outputs": [],
   "source": [
    "%run fillgaps.py"
   ]
  }
 ],
 "metadata": {
  "interpreter": {
   "hash": "fb3cb8dea069421dd585bbbecc3c4a5cfc1b54608ecec9721ad330a804798f5b"
  },
  "kernelspec": {
   "display_name": "Python 3.10.1 64-bit ('venv': venv)",
   "language": "python",
   "name": "python3"
  },
  "language_info": {
   "codemirror_mode": {
    "name": "ipython",
    "version": 3
   },
   "file_extension": ".py",
   "mimetype": "text/x-python",
   "name": "python",
   "nbconvert_exporter": "python",
   "pygments_lexer": "ipython3",
   "version": "3.10.1"
  },
  "orig_nbformat": 4
 },
 "nbformat": 4,
 "nbformat_minor": 2
}
