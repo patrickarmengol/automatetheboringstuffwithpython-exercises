{
 "cells": [
  {
   "cell_type": "code",
   "execution_count": 1,
   "metadata": {},
   "outputs": [],
   "source": [
    "spam = True"
   ]
  },
  {
   "cell_type": "code",
   "execution_count": 2,
   "metadata": {},
   "outputs": [
    {
     "data": {
      "text/plain": [
       "True"
      ]
     },
     "execution_count": 2,
     "metadata": {},
     "output_type": "execute_result"
    }
   ],
   "source": [
    "spam"
   ]
  },
  {
   "cell_type": "code",
   "execution_count": 3,
   "metadata": {},
   "outputs": [
    {
     "ename": "NameError",
     "evalue": "name 'true' is not defined",
     "output_type": "error",
     "traceback": [
      "\u001b[0;31m---------------------------------------------------------------------------\u001b[0m",
      "\u001b[0;31mNameError\u001b[0m                                 Traceback (most recent call last)",
      "Input \u001b[0;32mIn [3]\u001b[0m, in \u001b[0;36m<module>\u001b[0;34m\u001b[0m\n\u001b[0;32m----> 1\u001b[0m \u001b[43mtrue\u001b[49m\n",
      "\u001b[0;31mNameError\u001b[0m: name 'true' is not defined"
     ]
    }
   ],
   "source": [
    "true"
   ]
  },
  {
   "cell_type": "code",
   "execution_count": 4,
   "metadata": {},
   "outputs": [
    {
     "data": {
      "text/plain": [
       "True"
      ]
     },
     "execution_count": 4,
     "metadata": {},
     "output_type": "execute_result"
    }
   ],
   "source": [
    "42 == 42"
   ]
  },
  {
   "cell_type": "code",
   "execution_count": 5,
   "metadata": {},
   "outputs": [
    {
     "data": {
      "text/plain": [
       "False"
      ]
     },
     "execution_count": 5,
     "metadata": {},
     "output_type": "execute_result"
    }
   ],
   "source": [
    "42 == 99"
   ]
  },
  {
   "cell_type": "code",
   "execution_count": 6,
   "metadata": {},
   "outputs": [
    {
     "data": {
      "text/plain": [
       "True"
      ]
     },
     "execution_count": 6,
     "metadata": {},
     "output_type": "execute_result"
    }
   ],
   "source": [
    "2 != 3"
   ]
  },
  {
   "cell_type": "code",
   "execution_count": 7,
   "metadata": {},
   "outputs": [
    {
     "data": {
      "text/plain": [
       "False"
      ]
     },
     "execution_count": 7,
     "metadata": {},
     "output_type": "execute_result"
    }
   ],
   "source": [
    "2 != 2"
   ]
  },
  {
   "cell_type": "code",
   "execution_count": 8,
   "metadata": {},
   "outputs": [
    {
     "data": {
      "text/plain": [
       "True"
      ]
     },
     "execution_count": 8,
     "metadata": {},
     "output_type": "execute_result"
    }
   ],
   "source": [
    "2.0 + 2.0 == 4.0"
   ]
  },
  {
   "cell_type": "code",
   "execution_count": 9,
   "metadata": {},
   "outputs": [
    {
     "data": {
      "text/plain": [
       "True"
      ]
     },
     "execution_count": 9,
     "metadata": {},
     "output_type": "execute_result"
    }
   ],
   "source": [
    "42 == 42.0"
   ]
  },
  {
   "cell_type": "code",
   "execution_count": 10,
   "metadata": {},
   "outputs": [
    {
     "data": {
      "text/plain": [
       "True"
      ]
     },
     "execution_count": 10,
     "metadata": {},
     "output_type": "execute_result"
    }
   ],
   "source": [
    "42 < 100"
   ]
  },
  {
   "cell_type": "code",
   "execution_count": 11,
   "metadata": {},
   "outputs": [
    {
     "data": {
      "text/plain": [
       "False"
      ]
     },
     "execution_count": 11,
     "metadata": {},
     "output_type": "execute_result"
    }
   ],
   "source": [
    "True and False"
   ]
  },
  {
   "cell_type": "code",
   "execution_count": 12,
   "metadata": {},
   "outputs": [
    {
     "data": {
      "text/plain": [
       "True"
      ]
     },
     "execution_count": 12,
     "metadata": {},
     "output_type": "execute_result"
    }
   ],
   "source": [
    "not not not not True"
   ]
  },
  {
   "cell_type": "code",
   "execution_count": 13,
   "metadata": {},
   "outputs": [
    {
     "name": "stdout",
     "output_type": "stream",
     "text": [
      "hello, mary\n",
      "access granted\n"
     ]
    }
   ],
   "source": [
    "name = 'mary'\n",
    "password = 'swordfish'\n",
    "if name == 'mary':\n",
    "    print('hello, mary')\n",
    "    if password == 'swordfish':\n",
    "        print('access granted')\n",
    "    else:\n",
    "        print('wrong password')"
   ]
  },
  {
   "cell_type": "code",
   "execution_count": 14,
   "metadata": {},
   "outputs": [
    {
     "name": "stdout",
     "output_type": "stream",
     "text": [
      "you are neither alice nor a little kid\n"
     ]
    }
   ],
   "source": [
    "name = 'carol'\n",
    "age = 3000\n",
    "if name == 'alice':\n",
    "    print('hi, alice')\n",
    "elif age < 12:\n",
    "    print('you\\'re not alice, kiddo')\n",
    "else:\n",
    "    print('you are neither alice nor a little kid')"
   ]
  },
  {
   "cell_type": "code",
   "execution_count": 17,
   "metadata": {},
   "outputs": [
    {
     "name": "stdout",
     "output_type": "stream",
     "text": [
      "please type your name\n",
      "please type your name\n",
      "thank you\n"
     ]
    }
   ],
   "source": [
    "name = ''\n",
    "while name != 'your name':\n",
    "    print('please type your name')\n",
    "    name = input()\n",
    "print('thank you')"
   ]
  },
  {
   "cell_type": "code",
   "execution_count": 18,
   "metadata": {},
   "outputs": [
    {
     "name": "stdout",
     "output_type": "stream",
     "text": [
      "please type your name\n",
      "please type your name\n",
      "thank you\n"
     ]
    }
   ],
   "source": [
    "while True:\n",
    "    print('please type your name')\n",
    "    name = input()\n",
    "    if name == 'your name':\n",
    "        break\n",
    "print('thank you')"
   ]
  },
  {
   "cell_type": "code",
   "execution_count": 19,
   "metadata": {},
   "outputs": [
    {
     "name": "stdout",
     "output_type": "stream",
     "text": [
      "who are you?\n",
      "who are you?\n",
      "hello, joe. what is the password?\n",
      "who are you?\n",
      "hello, joe. what is the password?\n",
      "access granted\n"
     ]
    }
   ],
   "source": [
    "while True:\n",
    "    print('who are you?')\n",
    "    name = input()\n",
    "    if name != 'joe':\n",
    "        continue\n",
    "    print('hello, joe. what is the password?')\n",
    "    password = input()\n",
    "    if password == 'swordfish':\n",
    "        break\n",
    "print('access granted')"
   ]
  },
  {
   "cell_type": "code",
   "execution_count": 20,
   "metadata": {},
   "outputs": [],
   "source": [
    "num = 0\n",
    "if num:\n",
    "    print('you have a nonzero num')"
   ]
  },
  {
   "cell_type": "code",
   "execution_count": 21,
   "metadata": {},
   "outputs": [
    {
     "name": "stdout",
     "output_type": "stream",
     "text": [
      "asdf\n",
      "asdf\n",
      "asdf\n",
      "asdf\n",
      "asdf\n"
     ]
    }
   ],
   "source": [
    "for i in range(5):\n",
    "    print('asdf')"
   ]
  },
  {
   "cell_type": "code",
   "execution_count": 22,
   "metadata": {},
   "outputs": [
    {
     "name": "stdout",
     "output_type": "stream",
     "text": [
      "12\n",
      "13\n",
      "14\n",
      "15\n"
     ]
    }
   ],
   "source": [
    "for i in range(12,16):\n",
    "    print(i)"
   ]
  },
  {
   "cell_type": "code",
   "execution_count": 24,
   "metadata": {},
   "outputs": [
    {
     "name": "stdout",
     "output_type": "stream",
     "text": [
      "0\n",
      "2\n",
      "4\n",
      "6\n",
      "8\n"
     ]
    }
   ],
   "source": [
    "for i in range(0,10,2):\n",
    "    print(i)"
   ]
  },
  {
   "cell_type": "code",
   "execution_count": 25,
   "metadata": {},
   "outputs": [
    {
     "name": "stdout",
     "output_type": "stream",
     "text": [
      "5\n",
      "4\n",
      "3\n",
      "2\n",
      "1\n",
      "0\n"
     ]
    }
   ],
   "source": [
    "for i in range(5, -1, -1):\n",
    "    print(i)"
   ]
  },
  {
   "cell_type": "code",
   "execution_count": 26,
   "metadata": {},
   "outputs": [
    {
     "name": "stdout",
     "output_type": "stream",
     "text": [
      "9\n",
      "4\n",
      "10\n",
      "4\n",
      "7\n"
     ]
    }
   ],
   "source": [
    "import random\n",
    "for i in range(5):\n",
    "    print(random.randint(1, 10))"
   ]
  },
  {
   "cell_type": "code",
   "execution_count": 27,
   "metadata": {},
   "outputs": [
    {
     "name": "stdout",
     "output_type": "stream",
     "text": [
      "type exit to exit\n",
      "you typed qwer\n",
      "type exit to exit\n",
      "you typed asdf\n",
      "type exit to exit\n",
      "you typed zxcv\n",
      "type exit to exit\n",
      "you typed sdfg\n",
      "type exit to exit\n"
     ]
    },
    {
     "ename": "SystemExit",
     "evalue": "",
     "output_type": "error",
     "traceback": [
      "An exception has occurred, use %tb to see the full traceback.\n",
      "\u001b[0;31mSystemExit\u001b[0m\n"
     ]
    },
    {
     "name": "stderr",
     "output_type": "stream",
     "text": [
      "/home/iu/dev/autoboring/venv/lib/python3.10/site-packages/IPython/core/interactiveshell.py:3259: UserWarning: To exit: use 'exit', 'quit', or Ctrl-D.\n",
      "  warn(\"To exit: use 'exit', 'quit', or Ctrl-D.\", stacklevel=1)\n"
     ]
    }
   ],
   "source": [
    "import sys\n",
    "\n",
    "while True:\n",
    "    print('type exit to exit')\n",
    "    response = input()\n",
    "    if response == 'exit':\n",
    "        sys.exit()\n",
    "    print('you typed ' + response)"
   ]
  },
  {
   "cell_type": "code",
   "execution_count": 28,
   "metadata": {},
   "outputs": [
    {
     "name": "stdout",
     "output_type": "stream",
     "text": [
      "I am thinking of a number between 1 and 20\n",
      "take a guess\n",
      "your guess is too low\n",
      "take a guess\n",
      "your guess is too high\n",
      "take a guess\n",
      "your guess is too high\n",
      "take a guess\n",
      "your guess is too low\n",
      "take a guess\n",
      "good job. you guessed the number in 5 guesses\n"
     ]
    }
   ],
   "source": [
    "%run guess_the_number.py"
   ]
  },
  {
   "cell_type": "code",
   "execution_count": 30,
   "metadata": {},
   "outputs": [
    {
     "name": "stdout",
     "output_type": "stream",
     "text": [
      "rock, paper, scissors\n",
      "0 wins, 0 losses, 0 ties\n",
      "enter your move: (r)ock, (p)aper, (s)cissors, or (q)uit\n",
      "rock vs...\n",
      "rock\n",
      "it's a tie\n",
      "0 wins, 0 losses, 1 ties\n",
      "enter your move: (r)ock, (p)aper, (s)cissors, or (q)uit\n",
      "paper vs...\n",
      "rock\n",
      "you win\n",
      "1 wins, 0 losses, 1 ties\n",
      "enter your move: (r)ock, (p)aper, (s)cissors, or (q)uit\n",
      "paper vs...\n",
      "paper\n",
      "it's a tie\n",
      "1 wins, 0 losses, 2 ties\n",
      "enter your move: (r)ock, (p)aper, (s)cissors, or (q)uit\n",
      "scissors vs...\n",
      "scissor\n",
      "it's a tie\n",
      "1 wins, 0 losses, 3 ties\n",
      "enter your move: (r)ock, (p)aper, (s)cissors, or (q)uit\n",
      "rock vs...\n",
      "rock\n",
      "it's a tie\n",
      "1 wins, 0 losses, 4 ties\n",
      "enter your move: (r)ock, (p)aper, (s)cissors, or (q)uit\n",
      "paper vs...\n",
      "rock\n",
      "you win\n",
      "2 wins, 0 losses, 4 ties\n",
      "enter your move: (r)ock, (p)aper, (s)cissors, or (q)uit\n",
      "scissors vs...\n",
      "paper\n",
      "you win\n",
      "3 wins, 0 losses, 4 ties\n",
      "enter your move: (r)ock, (p)aper, (s)cissors, or (q)uit\n"
     ]
    }
   ],
   "source": [
    "%run rps_game.py"
   ]
  },
  {
   "cell_type": "markdown",
   "metadata": {},
   "source": [
    "## practice questions\n",
    "\n",
    "1. True, False\n",
    "2. and, or, not\n",
    "3. ...\n",
    "4. False, False, True, False, False, True\n",
    "5. >, <, >=, <=, ==, !=\n",
    "6. == is a comparison between values that produces a boolean and = assigns values to a variable\n",
    "7. a condition is the result? of a test. use it when you want to execute code only when the condition is met\n",
    "8. ...\n",
    "9. \n",
    "```python\n",
    "if spam == 1:\n",
    "    print('hello')\n",
    "elif spam == 2:\n",
    "    print('howdy')\n",
    "else:\n",
    "    print('greetings')\n",
    "```\n",
    "10. ctrl+c\n",
    "11. break breaks out, continue continues to next iteration\n",
    "12. no difference\n",
    "13. \n",
    "```python\n",
    "for i in range(1, 11):\n",
    "    print(i)\n",
    "\n",
    "i = 1\n",
    "while i < 11:\n",
    "    print(i)\n",
    "    i += 1\n",
    "```\n",
    "14. spam.bacon()\n",
    "\n"
   ]
  }
 ],
 "metadata": {
  "interpreter": {
   "hash": "fb3cb8dea069421dd585bbbecc3c4a5cfc1b54608ecec9721ad330a804798f5b"
  },
  "kernelspec": {
   "display_name": "Python 3.10.1 64-bit ('venv': venv)",
   "language": "python",
   "name": "python3"
  },
  "language_info": {
   "codemirror_mode": {
    "name": "ipython",
    "version": 3
   },
   "file_extension": ".py",
   "mimetype": "text/x-python",
   "name": "python",
   "nbconvert_exporter": "python",
   "pygments_lexer": "ipython3",
   "version": "3.10.1"
  },
  "orig_nbformat": 4
 },
 "nbformat": 4,
 "nbformat_minor": 2
}
