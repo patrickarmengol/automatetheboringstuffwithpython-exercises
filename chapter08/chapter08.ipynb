{
 "cells": [
  {
   "cell_type": "code",
   "execution_count": 1,
   "metadata": {},
   "outputs": [
    {
     "name": "stdout",
     "output_type": "stream",
     "text": [
      "enter your age:\n",
      "please use numeric digits\n",
      "enter your age:\n",
      "please enter a positive number\n",
      "enter your age:\n",
      "your age is 4\n"
     ]
    }
   ],
   "source": [
    "while True:\n",
    "    print('enter your age:')\n",
    "    age = input()\n",
    "    try:\n",
    "        age = int(age)\n",
    "    except:\n",
    "        print('please use numeric digits')\n",
    "        continue\n",
    "    if age < 1:\n",
    "        print('please enter a positive number') # what about babies?\n",
    "        continue\n",
    "    break\n",
    "\n",
    "print(f'your age is {age}')"
   ]
  },
  {
   "cell_type": "code",
   "execution_count": 2,
   "metadata": {},
   "outputs": [],
   "source": [
    "import pyinputplus as pyip\n",
    "# is this chapter just the author plugging his lib?"
   ]
  },
  {
   "cell_type": "code",
   "execution_count": 3,
   "metadata": {},
   "outputs": [
    {
     "name": "stdout",
     "output_type": "stream",
     "text": [
      "'seven' is not a number.\n"
     ]
    },
    {
     "data": {
      "text/plain": [
       "4"
      ]
     },
     "execution_count": 3,
     "metadata": {},
     "output_type": "execute_result"
    }
   ],
   "source": [
    "response = pyip.inputNum()\n",
    "response"
   ]
  },
  {
   "cell_type": "code",
   "execution_count": 4,
   "metadata": {},
   "outputs": [
    {
     "data": {
      "text/plain": [
       "'XIV'"
      ]
     },
     "execution_count": 4,
     "metadata": {},
     "output_type": "execute_result"
    }
   ],
   "source": [
    "response = pyip.inputNum(allowRegexes=[r'(I|V|X|L|C|D|M)+', r'zero'])\n",
    "response"
   ]
  },
  {
   "cell_type": "code",
   "execution_count": 5,
   "metadata": {},
   "outputs": [
    {
     "name": "stdout",
     "output_type": "stream",
     "text": [
      "This response is invalid.\n"
     ]
    },
    {
     "data": {
      "text/plain": [
       "43"
      ]
     },
     "execution_count": 5,
     "metadata": {},
     "output_type": "execute_result"
    }
   ],
   "source": [
    "response = pyip.inputNum(blockRegexes=[r'[02468]$'])\n",
    "response"
   ]
  },
  {
   "cell_type": "code",
   "execution_count": 7,
   "metadata": {},
   "outputs": [
    {
     "name": "stdout",
     "output_type": "stream",
     "text": [
      "Want to know how to keep an idiot busy for hours?\n",
      "Want to know how to keep an idiot busy for hours?\n",
      "Want to know how to keep an idiot busy for hours?\n",
      "Thank you. Have a nice day.\n"
     ]
    }
   ],
   "source": [
    "while True:\n",
    "    response = pyip.inputYesNo('Want to know how to keep an idiot busy for hours?\\n')\n",
    "    if response == 'no':\n",
    "        break\n",
    "print('Thank you. Have a nice day.')"
   ]
  },
  {
   "cell_type": "code",
   "execution_count": 9,
   "metadata": {},
   "outputs": [
    {
     "name": "stdout",
     "output_type": "stream",
     "text": [
      "#0: 5 x 3 = correct\n",
      "#1: 0 x 8 = correct\n",
      "#2: 2 x 6 = Blank values are not allowed.\n",
      "#2: 2 x 6 = correct\n",
      "#3: 6 x 1 = correct\n",
      "#4: 0 x 1 = Blank values are not allowed.\n",
      "#4: 0 x 1 = correct\n",
      "#5: 6 x 6 = correct\n",
      "#6: 4 x 8 = Blank values are not allowed.\n",
      "#6: 4 x 8 = Blank values are not allowed.\n",
      "out of time\n",
      "#7: 9 x 4 = correct\n",
      "#8: 9 x 0 = correct\n",
      "#9: 8 x 2 = Blank values are not allowed.\n",
      "#9: 8 x 2 = correct\n",
      "score: 9 / 10\n"
     ]
    }
   ],
   "source": [
    "%run multiplicationquiz.py\n",
    "# vscode jupyternotebooks are not showing output half the time... could it be because of the sleep() call?"
   ]
  },
  {
   "cell_type": "markdown",
   "metadata": {},
   "source": [
    "## practice questions\n",
    "\n",
    "1. no, it's the author's selfplug\n",
    "2. commonly? bc 'pyip' is shorter\n",
    "3. ints and floats\n",
    "4. set limits\n",
    "5. list of regex strings\n",
    "6. some exception idk\n",
    "7. default the response to 'hello'"
   ]
  },
  {
   "cell_type": "code",
   "execution_count": 10,
   "metadata": {},
   "outputs": [
    {
     "name": "stdout",
     "output_type": "stream",
     "text": [
      "choose a type of bread:\n",
      "* wheat\n",
      "* white\n",
      "* sourdough\n",
      "choose a type of protein\n",
      "* chicken\n",
      "* turkey\n",
      "* ham\n",
      "* tofu\n",
      "do you want cheese?\n",
      "Blank values are not allowed.\n",
      "do you want cheese?\n",
      "choose a type of cheese\n",
      "* cheddar\n",
      "* swiss\n",
      "* mozzarella\n",
      "do you want mayo?\n",
      "Blank values are not allowed.\n",
      "do you want mayo?\n",
      "do you want mustard?\n",
      "do you want lettuce?\n",
      "do you want tomato?\n",
      "how many sandwiches do you want?\n",
      "cost of sandwich: 2.80\n",
      "total cost: 19.60\n"
     ]
    }
   ],
   "source": [
    "%run sandwichmaker.py\n",
    "# prompts messed up here too so not issue with sleep()"
   ]
  },
  {
   "cell_type": "code",
   "execution_count": null,
   "metadata": {},
   "outputs": [],
   "source": [
    "# not doing the multiplication quiz again\n",
    "# this book is cool, but it's starting to get annoying\n",
    "# i still can't get over the camelCase"
   ]
  }
 ],
 "metadata": {
  "interpreter": {
   "hash": "fb3cb8dea069421dd585bbbecc3c4a5cfc1b54608ecec9721ad330a804798f5b"
  },
  "kernelspec": {
   "display_name": "Python 3.10.1 64-bit ('venv': venv)",
   "language": "python",
   "name": "python3"
  },
  "language_info": {
   "codemirror_mode": {
    "name": "ipython",
    "version": 3
   },
   "file_extension": ".py",
   "mimetype": "text/x-python",
   "name": "python",
   "nbconvert_exporter": "python",
   "pygments_lexer": "ipython3",
   "version": "3.10.1"
  },
  "orig_nbformat": 4
 },
 "nbformat": 4,
 "nbformat_minor": 2
}
