{
 "cells": [
  {
   "cell_type": "code",
   "execution_count": 1,
   "metadata": {},
   "outputs": [],
   "source": [
    "from PIL import ImageColor"
   ]
  },
  {
   "cell_type": "code",
   "execution_count": 2,
   "metadata": {},
   "outputs": [
    {
     "data": {
      "text/plain": [
       "(255, 0, 0, 255)"
      ]
     },
     "execution_count": 2,
     "metadata": {},
     "output_type": "execute_result"
    }
   ],
   "source": [
    "ImageColor.getcolor('red', 'RGBA')"
   ]
  },
  {
   "cell_type": "code",
   "execution_count": 3,
   "metadata": {},
   "outputs": [
    {
     "data": {
      "text/plain": [
       "(255, 0, 0, 255)"
      ]
     },
     "execution_count": 3,
     "metadata": {},
     "output_type": "execute_result"
    }
   ],
   "source": [
    "ImageColor.getcolor('ReD', 'RGBA') # case insensitive"
   ]
  },
  {
   "cell_type": "code",
   "execution_count": 4,
   "metadata": {},
   "outputs": [
    {
     "data": {
      "text/plain": [
       "(210, 105, 30, 255)"
      ]
     },
     "execution_count": 4,
     "metadata": {},
     "output_type": "execute_result"
    }
   ],
   "source": [
    "ImageColor.getcolor('chocolate', 'RGBA') # html color names"
   ]
  },
  {
   "cell_type": "code",
   "execution_count": 5,
   "metadata": {},
   "outputs": [],
   "source": [
    "from PIL import Image"
   ]
  },
  {
   "cell_type": "code",
   "execution_count": 7,
   "metadata": {},
   "outputs": [],
   "source": [
    "cat_im = Image.open('zophie.png')"
   ]
  },
  {
   "cell_type": "code",
   "execution_count": 8,
   "metadata": {},
   "outputs": [
    {
     "data": {
      "text/plain": [
       "(816, 1088)"
      ]
     },
     "execution_count": 8,
     "metadata": {},
     "output_type": "execute_result"
    }
   ],
   "source": [
    "cat_im.size"
   ]
  },
  {
   "cell_type": "code",
   "execution_count": 9,
   "metadata": {},
   "outputs": [],
   "source": [
    "width, height = cat_im.size"
   ]
  },
  {
   "cell_type": "code",
   "execution_count": 10,
   "metadata": {},
   "outputs": [
    {
     "data": {
      "text/plain": [
       "816"
      ]
     },
     "execution_count": 10,
     "metadata": {},
     "output_type": "execute_result"
    }
   ],
   "source": [
    "width"
   ]
  },
  {
   "cell_type": "code",
   "execution_count": 11,
   "metadata": {},
   "outputs": [
    {
     "data": {
      "text/plain": [
       "1088"
      ]
     },
     "execution_count": 11,
     "metadata": {},
     "output_type": "execute_result"
    }
   ],
   "source": [
    "height"
   ]
  },
  {
   "cell_type": "code",
   "execution_count": 12,
   "metadata": {},
   "outputs": [
    {
     "data": {
      "text/plain": [
       "'zophie.png'"
      ]
     },
     "execution_count": 12,
     "metadata": {},
     "output_type": "execute_result"
    }
   ],
   "source": [
    "cat_im.filename"
   ]
  },
  {
   "cell_type": "code",
   "execution_count": 13,
   "metadata": {},
   "outputs": [
    {
     "data": {
      "text/plain": [
       "'PNG'"
      ]
     },
     "execution_count": 13,
     "metadata": {},
     "output_type": "execute_result"
    }
   ],
   "source": [
    "cat_im.format"
   ]
  },
  {
   "cell_type": "code",
   "execution_count": 14,
   "metadata": {},
   "outputs": [
    {
     "data": {
      "text/plain": [
       "'Portable network graphics'"
      ]
     },
     "execution_count": 14,
     "metadata": {},
     "output_type": "execute_result"
    }
   ],
   "source": [
    "cat_im.format_description"
   ]
  },
  {
   "cell_type": "code",
   "execution_count": 15,
   "metadata": {},
   "outputs": [],
   "source": [
    "cat_im.save('zophie.jpg')"
   ]
  },
  {
   "cell_type": "code",
   "execution_count": 16,
   "metadata": {},
   "outputs": [],
   "source": [
    "im = Image.new('RGBA', (100, 200), 'purple')\n",
    "im.save('purple_image.png')"
   ]
  },
  {
   "cell_type": "code",
   "execution_count": 17,
   "metadata": {},
   "outputs": [],
   "source": [
    "im = Image.new('RGBA', (20, 20))\n",
    "im.save('transparent_image.png')"
   ]
  },
  {
   "cell_type": "code",
   "execution_count": 20,
   "metadata": {},
   "outputs": [],
   "source": [
    "cropped_im = cat_im.crop((335, 345, 565, 560))"
   ]
  },
  {
   "cell_type": "code",
   "execution_count": 21,
   "metadata": {},
   "outputs": [],
   "source": [
    "cropped_im.save('cropped.png')"
   ]
  },
  {
   "cell_type": "code",
   "execution_count": 22,
   "metadata": {},
   "outputs": [],
   "source": [
    "cat_copy_im = cat_im.copy()"
   ]
  },
  {
   "cell_type": "code",
   "execution_count": 23,
   "metadata": {},
   "outputs": [
    {
     "data": {
      "text/plain": [
       "(230, 215)"
      ]
     },
     "execution_count": 23,
     "metadata": {},
     "output_type": "execute_result"
    }
   ],
   "source": [
    "face_im = cat_im.crop((335, 345, 565, 560))\n",
    "face_im.size"
   ]
  },
  {
   "cell_type": "code",
   "execution_count": 24,
   "metadata": {},
   "outputs": [],
   "source": [
    "cat_copy_im.paste(face_im, (0,0))"
   ]
  },
  {
   "cell_type": "code",
   "execution_count": 25,
   "metadata": {},
   "outputs": [],
   "source": [
    "cat_copy_im.paste(face_im, (400,500))"
   ]
  },
  {
   "cell_type": "code",
   "execution_count": 26,
   "metadata": {},
   "outputs": [],
   "source": [
    "cat_copy_im.save('pasted.png')"
   ]
  },
  {
   "cell_type": "code",
   "execution_count": 27,
   "metadata": {},
   "outputs": [],
   "source": [
    "cat_im_width, cat_im_height = cat_im.size"
   ]
  },
  {
   "cell_type": "code",
   "execution_count": 31,
   "metadata": {},
   "outputs": [],
   "source": [
    "face_im_width, face_im_height = face_im.size"
   ]
  },
  {
   "cell_type": "code",
   "execution_count": 29,
   "metadata": {},
   "outputs": [],
   "source": [
    "cat_copy_two = cat_im.copy()"
   ]
  },
  {
   "cell_type": "code",
   "execution_count": 32,
   "metadata": {},
   "outputs": [
    {
     "name": "stdout",
     "output_type": "stream",
     "text": [
      "0 0\n",
      "0 215\n",
      "0 430\n",
      "0 645\n",
      "0 860\n",
      "0 1075\n",
      "230 0\n",
      "230 215\n",
      "230 430\n",
      "230 645\n",
      "230 860\n",
      "230 1075\n",
      "460 0\n",
      "460 215\n",
      "460 430\n",
      "460 645\n",
      "460 860\n",
      "460 1075\n",
      "690 0\n",
      "690 215\n",
      "690 430\n",
      "690 645\n",
      "690 860\n",
      "690 1075\n"
     ]
    }
   ],
   "source": [
    "for left in range(0, cat_im_width, face_im_width):\n",
    "    for top in range(0, cat_im_height, face_im_height):\n",
    "        print(left, top)\n",
    "        cat_copy_two.paste(face_im, (left, top))"
   ]
  },
  {
   "cell_type": "code",
   "execution_count": 33,
   "metadata": {},
   "outputs": [],
   "source": [
    "cat_copy_two.save('tiled.png')"
   ]
  },
  {
   "cell_type": "code",
   "execution_count": 34,
   "metadata": {},
   "outputs": [],
   "source": [
    "width, height = cat_im.size\n",
    "quarter_sized_im = cat_im.resize((int(width / 2), int(height / 2)))\n",
    "quarter_sized_im.save('quartersized.png')"
   ]
  },
  {
   "cell_type": "code",
   "execution_count": 35,
   "metadata": {},
   "outputs": [],
   "source": [
    "svelte_im = cat_im.resize((width, height + 300))\n",
    "svelte_im.save('svelte.png') # TIL what svelte means"
   ]
  },
  {
   "cell_type": "code",
   "execution_count": 36,
   "metadata": {},
   "outputs": [],
   "source": [
    "cat_im.rotate(90).save('rotated90.png') # in book example, dimensions of new image are changed; here it keeps original?"
   ]
  },
  {
   "cell_type": "code",
   "execution_count": 37,
   "metadata": {},
   "outputs": [],
   "source": [
    "cat_im.rotate(90, expand=True).save('rotated90new.png') # passing expand=True seems to fix it"
   ]
  },
  {
   "cell_type": "code",
   "execution_count": 38,
   "metadata": {},
   "outputs": [],
   "source": [
    "cat_im.rotate(6, expand=True).save('rotated6.png')"
   ]
  },
  {
   "cell_type": "code",
   "execution_count": 39,
   "metadata": {},
   "outputs": [],
   "source": [
    "cat_im.transpose(Image.FLIP_LEFT_RIGHT).save('horizontal_flip.png')"
   ]
  },
  {
   "cell_type": "code",
   "execution_count": 40,
   "metadata": {},
   "outputs": [
    {
     "data": {
      "text/plain": [
       "(0, 0, 0, 0)"
      ]
     },
     "execution_count": 40,
     "metadata": {},
     "output_type": "execute_result"
    }
   ],
   "source": [
    "im = Image.new('RGBA', (100, 100))\n",
    "im.getpixel((0,0))"
   ]
  },
  {
   "cell_type": "code",
   "execution_count": 41,
   "metadata": {},
   "outputs": [],
   "source": [
    "for x in range(100):\n",
    "    for y in range(50):\n",
    "        im.putpixel((x, y), (210, 210, 210))"
   ]
  },
  {
   "cell_type": "code",
   "execution_count": 42,
   "metadata": {},
   "outputs": [],
   "source": [
    "for x in range(100):\n",
    "    for y in range(50,100):\n",
    "        im.putpixel((x, y), ImageColor.getcolor('darkgray', 'RGBA'))"
   ]
  },
  {
   "cell_type": "code",
   "execution_count": 43,
   "metadata": {},
   "outputs": [
    {
     "data": {
      "text/plain": [
       "(210, 210, 210, 255)"
      ]
     },
     "execution_count": 43,
     "metadata": {},
     "output_type": "execute_result"
    }
   ],
   "source": [
    "im.getpixel((0,0))"
   ]
  },
  {
   "cell_type": "code",
   "execution_count": 44,
   "metadata": {},
   "outputs": [
    {
     "data": {
      "text/plain": [
       "(169, 169, 169, 255)"
      ]
     },
     "execution_count": 44,
     "metadata": {},
     "output_type": "execute_result"
    }
   ],
   "source": [
    "im.getpixel((0,50))"
   ]
  },
  {
   "cell_type": "code",
   "execution_count": 45,
   "metadata": {},
   "outputs": [],
   "source": [
    "im.save('put_pixel.png')"
   ]
  },
  {
   "cell_type": "code",
   "execution_count": 46,
   "metadata": {},
   "outputs": [],
   "source": [
    "from PIL import ImageDraw"
   ]
  },
  {
   "cell_type": "code",
   "execution_count": 50,
   "metadata": {},
   "outputs": [],
   "source": [
    "im = Image.new('RGBA', (200, 200), 'white')\n",
    "draw = ImageDraw.Draw(im)"
   ]
  },
  {
   "cell_type": "code",
   "execution_count": 51,
   "metadata": {},
   "outputs": [],
   "source": [
    "draw.line([(0,0), (199, 0), (199, 199), (0, 199), (0, 0)], fill='black')\n",
    "draw.rectangle((20, 30, 60, 60), fill='blue')\n",
    "draw.ellipse((120, 30, 160, 60), fill='red')\n",
    "draw.polygon(((57, 87), (79, 62), (94, 85), (120, 90), (103, 113)), fill='brown')\n",
    "for i in range(100, 200, 10):\n",
    "    draw.line([(i, 0), (200, i - 100)], fill='green')\n",
    "im.save('drawing.png')"
   ]
  },
  {
   "cell_type": "code",
   "execution_count": 52,
   "metadata": {},
   "outputs": [],
   "source": [
    "from PIL import ImageFont"
   ]
  },
  {
   "cell_type": "code",
   "execution_count": 54,
   "metadata": {},
   "outputs": [],
   "source": [
    "im = Image.new('RGBA', (200, 200), 'white')\n",
    "draw = ImageDraw.Draw(im)\n",
    "draw.text((20, 150), 'hello', fill='purple')\n",
    "fonts_folder = 'FONT_FOLDER'\n",
    "arial_font = ImageFont.truetype(os.path.join(fonts_folder, 'TTF/DejaVuSans.ttf'), 32)\n",
    "draw.text((100, 150), 'howdy', fill='gray', font=arial_font)\n",
    "im.save('text.png')"
   ]
  },
  {
   "cell_type": "markdown",
   "metadata": {},
   "source": [
    "## practice questions\n",
    "\n",
    "1. value representing color+opacity of a pixel in an image (red, gree, blue, alpha)\n",
    "2. `ImageColor.getcolor('cornflowerblue', 'RGBA')`\n",
    "3. a 4 value tuple containing bounds for a section of pixels (left, top, right, bot) (right and bot are non-inclusive)\n",
    "4. `Image.open('zophie.png')`\n",
    "5. `im.size`\n",
    "6. ???\n",
    "7. `im.save('filename.png')`\n",
    "8. ImageDraw\n",
    "9. a Draw object `ImageDraw.Draw()`"
   ]
  }
 ],
 "metadata": {
  "interpreter": {
   "hash": "fdf2af270e1c4421df51758865ba71775b67e21bd7cdd0a2bda190f7a1013cec"
  },
  "kernelspec": {
   "display_name": "Python 3.10.2 64-bit ('venv': venv)",
   "language": "python",
   "name": "python3"
  },
  "language_info": {
   "codemirror_mode": {
    "name": "ipython",
    "version": 3
   },
   "file_extension": ".py",
   "mimetype": "text/x-python",
   "name": "python",
   "nbconvert_exporter": "python",
   "pygments_lexer": "ipython3",
   "version": "3.10.2"
  },
  "orig_nbformat": 4
 },
 "nbformat": 4,
 "nbformat_minor": 2
}
