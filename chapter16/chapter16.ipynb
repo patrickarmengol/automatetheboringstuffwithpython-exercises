{
 "cells": [
  {
   "cell_type": "code",
   "execution_count": 1,
   "metadata": {},
   "outputs": [],
   "source": [
    "import csv"
   ]
  },
  {
   "cell_type": "code",
   "execution_count": 2,
   "metadata": {},
   "outputs": [],
   "source": [
    "example_file = open('example.csv')"
   ]
  },
  {
   "cell_type": "code",
   "execution_count": 3,
   "metadata": {},
   "outputs": [
    {
     "data": {
      "text/plain": [
       "[['4/5/2014 13:34', 'Apples', '73'],\n",
       " ['4/5/2014 3:41', 'Cherries', '85'],\n",
       " ['4/6/2014 12:46', 'Pears', '14'],\n",
       " ['4/8/2014 8:59', 'Oranges', '52'],\n",
       " ['4/10/2014 2:07', 'Apples', '152'],\n",
       " ['4/10/2014 18:10', 'Bananas', '23'],\n",
       " ['4/10/2014 2:40', 'Strawberries', '98']]"
      ]
     },
     "execution_count": 3,
     "metadata": {},
     "output_type": "execute_result"
    }
   ],
   "source": [
    "example_reader = csv.reader(example_file)\n",
    "example_data = list(example_reader)\n",
    "example_data"
   ]
  },
  {
   "cell_type": "code",
   "execution_count": 12,
   "metadata": {},
   "outputs": [
    {
     "name": "stdout",
     "output_type": "stream",
     "text": [
      "1 ['4/5/2014 13:34', 'Apples', '73']\n",
      "2 ['4/5/2014 3:41', 'Cherries', '85']\n",
      "3 ['4/6/2014 12:46', 'Pears', '14']\n",
      "4 ['4/8/2014 8:59', 'Oranges', '52']\n",
      "5 ['4/10/2014 2:07', 'Apples', '152']\n",
      "6 ['4/10/2014 18:10', 'Bananas', '23']\n",
      "7 ['4/10/2014 2:40', 'Strawberries', '98']\n"
     ]
    }
   ],
   "source": [
    "example_file = open('example.csv') # needs to be initialized again\n",
    "example_reader = csv.reader(example_file)\n",
    "for row in example_reader:\n",
    "    print(f'{example_reader.line_num} {row}')"
   ]
  },
  {
   "cell_type": "code",
   "execution_count": 13,
   "metadata": {},
   "outputs": [],
   "source": [
    "output_file = open('output.csv', 'w', newline='') # newline empty req for writing?\n",
    "output_writer = csv.writer(output_file)\n",
    "output_writer.writerow(['spam', 'eggs', 'bacon', 'ham'])\n",
    "output_writer.writerow(['asdf', 'zxcv', 'qwer', 'aaaa'])\n",
    "output_writer.writerow([1, 2, 3, 4.5])\n",
    "output_file.close()"
   ]
  },
  {
   "cell_type": "code",
   "execution_count": 15,
   "metadata": {},
   "outputs": [],
   "source": [
    "tsv_file = open('example.tsv', 'w', newline='')\n",
    "csv_writer = csv.writer(tsv_file, delimiter='\\t', lineterminator='\\n\\n')\n",
    "csv_writer.writerow(['apples', 'oranges', 'grapes'])\n",
    "csv_writer.writerow(['eggs', 'bacon', 'ham'])\n",
    "csv_writer.writerow(['spam', 'spam', 'spam', 'spam', 'spam', 'spam'])\n",
    "tsv_file.close()"
   ]
  },
  {
   "cell_type": "code",
   "execution_count": 16,
   "metadata": {},
   "outputs": [
    {
     "name": "stdout",
     "output_type": "stream",
     "text": [
      "4/5/2014 13:34 Apples 73\n",
      "4/5/2014 3:41 Cherries 85\n",
      "4/6/2014 12:46 Pears 14\n",
      "4/8/2014 8:59 Oranges 52\n",
      "4/10/2014 2:07 Apples 152\n",
      "4/10/2014 18:10 Bananas 23\n",
      "4/10/2014 2:40 Strawberries 98\n"
     ]
    }
   ],
   "source": [
    "example_file = open('example_with_header.csv')\n",
    "example_dict_reader = csv.DictReader(example_file)\n",
    "for row in example_dict_reader:\n",
    "    print(row['Timestamp'], row['Fruit'], row['Quantity'])"
   ]
  },
  {
   "cell_type": "code",
   "execution_count": 17,
   "metadata": {},
   "outputs": [
    {
     "name": "stdout",
     "output_type": "stream",
     "text": [
      "{'time': '4/5/2014 13:34', 'name': 'Apples', 'amount': '73'}\n",
      "{'time': '4/5/2014 3:41', 'name': 'Cherries', 'amount': '85'}\n",
      "{'time': '4/6/2014 12:46', 'name': 'Pears', 'amount': '14'}\n",
      "{'time': '4/8/2014 8:59', 'name': 'Oranges', 'amount': '52'}\n",
      "{'time': '4/10/2014 2:07', 'name': 'Apples', 'amount': '152'}\n",
      "{'time': '4/10/2014 18:10', 'name': 'Bananas', 'amount': '23'}\n",
      "{'time': '4/10/2014 2:40', 'name': 'Strawberries', 'amount': '98'}\n"
     ]
    }
   ],
   "source": [
    "example_file = open('example.csv')\n",
    "example_dict_reader = csv.DictReader(example_file, ['time', 'name', 'amount'])\n",
    "for row in example_dict_reader:\n",
    "    print(row)"
   ]
  },
  {
   "cell_type": "code",
   "execution_count": 18,
   "metadata": {},
   "outputs": [],
   "source": [
    "output_file = open('output.csv', 'w', newline='')\n",
    "output_dict_writer = csv.DictWriter(output_file, ['Name', 'Pet', 'Phone'])\n",
    "output_dict_writer.writeheader()\n",
    "output_dict_writer.writerow({'Name': 'Alice', 'Pet': 'cat', 'Phone': '555-1234'})\n",
    "output_dict_writer.writerow({'Name': 'Bob', 'Phone': '555-4321'})\n",
    "output_dict_writer.writerow({'Phone': '555-5555', 'Name': 'Carol', 'Pet': 'dog'})\n",
    "output_file.close()"
   ]
  },
  {
   "cell_type": "code",
   "execution_count": 19,
   "metadata": {},
   "outputs": [
    {
     "name": "stdout",
     "output_type": "stream",
     "text": [
      "removing header from example_with_header.csv\n",
      "removing header from example.csv\n",
      "removing header from output.csv\n"
     ]
    }
   ],
   "source": [
    "%run removecsvheader.py"
   ]
  },
  {
   "cell_type": "code",
   "execution_count": 20,
   "metadata": {},
   "outputs": [],
   "source": [
    "import json"
   ]
  },
  {
   "cell_type": "code",
   "execution_count": 21,
   "metadata": {},
   "outputs": [
    {
     "data": {
      "text/plain": [
       "{'name': 'zophie', 'is_cat': True, 'mice_caught': 0, 'feline_iq': None}"
      ]
     },
     "execution_count": 21,
     "metadata": {},
     "output_type": "execute_result"
    }
   ],
   "source": [
    "string_of_json_data = '{\"name\": \"zophie\", \"is_cat\": true, \"mice_caught\": 0, \"feline_iq\": null}'\n",
    "json_data_as_python_val = json.loads(string_of_json_data)\n",
    "json_data_as_python_val"
   ]
  },
  {
   "cell_type": "code",
   "execution_count": 22,
   "metadata": {},
   "outputs": [
    {
     "name": "stdout",
     "output_type": "stream",
     "text": [
      "sky: clear sky\n",
      "temp: 14.72 C (feels like 13.47 C)\n",
      "wind: 5.14 m/s at 50 deg\n"
     ]
    }
   ],
   "source": [
    "%run getopenweather.py lisbon pt"
   ]
  },
  {
   "cell_type": "markdown",
   "metadata": {},
   "source": [
    "## practice questions\n",
    "\n",
    "1. cells 'n' shit\n",
    "2. a file obj\n",
    "3. 'r', 'w'\n",
    "4. `writerow()`\n",
    "5. what their names say they do\n",
    "6. json.loads()\n",
    "7. json.dumps()"
   ]
  }
 ],
 "metadata": {
  "interpreter": {
   "hash": "fdf2af270e1c4421df51758865ba71775b67e21bd7cdd0a2bda190f7a1013cec"
  },
  "kernelspec": {
   "display_name": "Python 3.10.2 64-bit ('venv': venv)",
   "language": "python",
   "name": "python3"
  },
  "language_info": {
   "codemirror_mode": {
    "name": "ipython",
    "version": 3
   },
   "file_extension": ".py",
   "mimetype": "text/x-python",
   "name": "python",
   "nbconvert_exporter": "python",
   "pygments_lexer": "ipython3",
   "version": "3.10.2"
  },
  "orig_nbformat": 4
 },
 "nbformat": 4,
 "nbformat_minor": 2
}
